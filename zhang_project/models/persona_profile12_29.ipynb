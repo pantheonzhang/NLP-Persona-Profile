{
  "nbformat": 4,
  "nbformat_minor": 0,
  "metadata": {
    "kernelspec": {
      "name": "python3",
      "display_name": "Python 3"
    },
    "language_info": {
      "codemirror_mode": {
        "name": "ipython",
        "version": 3
      },
      "file_extension": ".py",
      "mimetype": "text/x-python",
      "name": "python",
      "nbconvert_exporter": "python",
      "pygments_lexer": "ipython3",
      "version": "3.7.3"
    },
    "stem_cell": {
      "cell_type": "raw",
      "metadata": {
        "pycharm": {
          "metadata": false
        }
      },
      "source": ""
    },
    "colab": {
      "name": "persona_profile12-29.ipynb",
      "provenance": [],
      "collapsed_sections": [],
      "toc_visible": true,
      "machine_shape": "hm"
    },
    "accelerator": "GPU"
  },
  "cells": [
    {
      "cell_type": "code",
      "metadata": {
        "id": "S3Z5XmOMnY7q",
        "colab_type": "code",
        "outputId": "b3b792ac-588f-4cfe-f93c-e09ea23c5736",
        "colab": {
          "base_uri": "https://localhost:8080/",
          "height": 122
        }
      },
      "source": [
        "from google.colab import drive\n",
        "drive.mount('/content/drive')"
      ],
      "execution_count": 2,
      "outputs": [
        {
          "output_type": "stream",
          "text": [
            "Go to this URL in a browser: https://accounts.google.com/o/oauth2/auth?client_id=947318989803-6bn6qk8qdgf4n4g3pfee6491hc0brc4i.apps.googleusercontent.com&redirect_uri=urn%3aietf%3awg%3aoauth%3a2.0%3aoob&response_type=code&scope=email%20https%3a%2f%2fwww.googleapis.com%2fauth%2fdocs.test%20https%3a%2f%2fwww.googleapis.com%2fauth%2fdrive%20https%3a%2f%2fwww.googleapis.com%2fauth%2fdrive.photos.readonly%20https%3a%2f%2fwww.googleapis.com%2fauth%2fpeopleapi.readonly\n",
            "\n",
            "Enter your authorization code:\n",
            "··········\n",
            "Mounted at /content/drive\n"
          ],
          "name": "stdout"
        }
      ]
    },
    {
      "cell_type": "code",
      "metadata": {
        "id": "YJggg9QNvo8v",
        "colab_type": "code",
        "colab": {}
      },
      "source": [
        "\n",
        "from IPython.core.interactiveshell import InteractiveShell\n",
        "InteractiveShell.ast_node_interactivity = \"all\" \n",
        "# 指定当前的工作目录\n",
        "import os\n",
        "\n",
        "# 此处为google drive中的文件路径,drive为之前指定的工作根目录，要加上\n",
        "os.chdir(\"/content/drive/My Drive/Persona-Profile\") "
      ],
      "execution_count": 0,
      "outputs": []
    },
    {
      "cell_type": "code",
      "metadata": {
        "id": "Dk_0KuaiJPwj",
        "colab_type": "code",
        "outputId": "0428d3d4-0534-4e60-a30e-35493984efd3",
        "colab": {
          "base_uri": "https://localhost:8080/",
          "height": 241
        }
      },
      "source": [
        "!pip install seaborn"
      ],
      "execution_count": 4,
      "outputs": [
        {
          "output_type": "stream",
          "text": [
            "Requirement already satisfied: seaborn in /usr/local/lib/python3.6/dist-packages (0.9.0)\n",
            "Requirement already satisfied: matplotlib>=1.4.3 in /usr/local/lib/python3.6/dist-packages (from seaborn) (3.1.2)\n",
            "Requirement already satisfied: numpy>=1.9.3 in /usr/local/lib/python3.6/dist-packages (from seaborn) (1.17.4)\n",
            "Requirement already satisfied: scipy>=0.14.0 in /usr/local/lib/python3.6/dist-packages (from seaborn) (1.3.3)\n",
            "Requirement already satisfied: pandas>=0.15.2 in /usr/local/lib/python3.6/dist-packages (from seaborn) (0.25.3)\n",
            "Requirement already satisfied: python-dateutil>=2.1 in /usr/local/lib/python3.6/dist-packages (from matplotlib>=1.4.3->seaborn) (2.6.1)\n",
            "Requirement already satisfied: kiwisolver>=1.0.1 in /usr/local/lib/python3.6/dist-packages (from matplotlib>=1.4.3->seaborn) (1.1.0)\n",
            "Requirement already satisfied: cycler>=0.10 in /usr/local/lib/python3.6/dist-packages (from matplotlib>=1.4.3->seaborn) (0.10.0)\n",
            "Requirement already satisfied: pyparsing!=2.0.4,!=2.1.2,!=2.1.6,>=2.0.1 in /usr/local/lib/python3.6/dist-packages (from matplotlib>=1.4.3->seaborn) (2.4.5)\n",
            "Requirement already satisfied: pytz>=2017.2 in /usr/local/lib/python3.6/dist-packages (from pandas>=0.15.2->seaborn) (2018.9)\n",
            "Requirement already satisfied: six>=1.5 in /usr/local/lib/python3.6/dist-packages (from python-dateutil>=2.1->matplotlib>=1.4.3->seaborn) (1.12.0)\n",
            "Requirement already satisfied: setuptools in /usr/local/lib/python3.6/dist-packages (from kiwisolver>=1.0.1->matplotlib>=1.4.3->seaborn) (42.0.2)\n"
          ],
          "name": "stdout"
        }
      ]
    },
    {
      "cell_type": "markdown",
      "metadata": {
        "pycharm": {
          "metadata": false
        },
        "id": "70X0Qg9vnMPX",
        "colab_type": "text"
      },
      "source": [
        "# 用户画像"
      ]
    },
    {
      "cell_type": "code",
      "metadata": {
        "pycharm": {
          "is_executing": false,
          "metadata": false,
          "name": "#%%\n"
        },
        "id": "4mXzrQw5nMPa",
        "colab_type": "code",
        "colab": {}
      },
      "source": [
        "#引入必要的包\n",
        "import pandas as pd\n",
        "import jieba\n",
        "import jieba.posseg\n",
        "import numpy as np\n",
        "import seaborn as sns\n"
      ],
      "execution_count": 0,
      "outputs": []
    },
    {
      "cell_type": "code",
      "metadata": {
        "pycharm": {
          "is_executing": false,
          "metadata": false,
          "name": "#%%\n"
        },
        "id": "bL7dNdmznMPd",
        "colab_type": "code",
        "outputId": "e4246365-3ee0-43a2-ed88-294acf57f3f9",
        "colab": {
          "base_uri": "https://localhost:8080/",
          "height": 71
        }
      },
      "source": [
        "#读取文件\n",
        "train_data_path = '/content/drive/My Drive/Persona-Profile/data/train.csv'\n",
        "train_file_name = 'train.csv'\n",
        "test_file_name = 'test.csv'\n",
        "train = pd.read_csv(train_data_path,sep='###__###',header=None)\n",
        "train.columns =['id','age','gender','edu','query']"
      ],
      "execution_count": 6,
      "outputs": [
        {
          "output_type": "stream",
          "text": [
            "/usr/local/lib/python3.6/dist-packages/ipykernel_launcher.py:4: ParserWarning: Falling back to the 'python' engine because the 'c' engine does not support regex separators (separators > 1 char and different from '\\s+' are interpreted as regex); you can avoid this warning by specifying engine='python'.\n",
            "  after removing the cwd from sys.path.\n"
          ],
          "name": "stderr"
        }
      ]
    },
    {
      "cell_type": "code",
      "metadata": {
        "pycharm": {
          "is_executing": false,
          "metadata": false,
          "name": "#%%\n"
        },
        "id": "RwNrF6DCnMPh",
        "colab_type": "code",
        "outputId": "e98bdedb-fea9-4727-9cbb-4b802b3b521d",
        "colab": {
          "base_uri": "https://localhost:8080/",
          "height": 501
        }
      },
      "source": [
        "#查看一下数据\n",
        "from IPython.core.interactiveshell import InteractiveShell\n",
        "InteractiveShell.ast_node_interactivity = \"all\" \n",
        "train.head()\n",
        "train.describe()\n",
        "train.shape"
      ],
      "execution_count": 7,
      "outputs": [
        {
          "output_type": "execute_result",
          "data": {
            "text/html": [
              "<div>\n",
              "<style scoped>\n",
              "    .dataframe tbody tr th:only-of-type {\n",
              "        vertical-align: middle;\n",
              "    }\n",
              "\n",
              "    .dataframe tbody tr th {\n",
              "        vertical-align: top;\n",
              "    }\n",
              "\n",
              "    .dataframe thead th {\n",
              "        text-align: right;\n",
              "    }\n",
              "</style>\n",
              "<table border=\"1\" class=\"dataframe\">\n",
              "  <thead>\n",
              "    <tr style=\"text-align: right;\">\n",
              "      <th></th>\n",
              "      <th>id</th>\n",
              "      <th>age</th>\n",
              "      <th>gender</th>\n",
              "      <th>edu</th>\n",
              "      <th>query</th>\n",
              "    </tr>\n",
              "  </thead>\n",
              "  <tbody>\n",
              "    <tr>\n",
              "      <th>0</th>\n",
              "      <td>22DD920316420BE2DF8D6EE651BA174B</td>\n",
              "      <td>1</td>\n",
              "      <td>1</td>\n",
              "      <td>4</td>\n",
              "      <td>柔和双沟\\t女生\\t中财网首页 财经\\thttp://pan.baidu.com/s/1pl...</td>\n",
              "    </tr>\n",
              "    <tr>\n",
              "      <th>1</th>\n",
              "      <td>43CC3AF5A8D6430A3B572337A889AFE4</td>\n",
              "      <td>2</td>\n",
              "      <td>1</td>\n",
              "      <td>3</td>\n",
              "      <td>广州厨宝烤箱\\t世情薄,人情恶,雨送黄昏花易落,晓风干,泪痕\\t厦门酒店用品批发市场\\t我只...</td>\n",
              "    </tr>\n",
              "    <tr>\n",
              "      <th>2</th>\n",
              "      <td>E97654BFF5570E2CCD433EA6128EAC19</td>\n",
              "      <td>4</td>\n",
              "      <td>1</td>\n",
              "      <td>0</td>\n",
              "      <td>钻石之泪耳机\\t盘锦到沈阳\\t旅顺公交\\t辽宁阜新车牌\\tbaidu\\tk715\\tk716...</td>\n",
              "    </tr>\n",
              "    <tr>\n",
              "      <th>3</th>\n",
              "      <td>6931EFC26D229CCFCEA125D3F3C21E57</td>\n",
              "      <td>4</td>\n",
              "      <td>2</td>\n",
              "      <td>3</td>\n",
              "      <td>最受欢迎狗狗排行榜\\t舶怎么读\\t场景描 写范例\\t三维绘图软件\\t枣和酸奶能一起吃吗\\t好...</td>\n",
              "    </tr>\n",
              "    <tr>\n",
              "      <th>4</th>\n",
              "      <td>E780470C3BB0D340334BD08CDCC3C71A</td>\n",
              "      <td>2</td>\n",
              "      <td>2</td>\n",
              "      <td>4</td>\n",
              "      <td>干槽症能自愈吗\\t太太万岁叶舒心去没去美国\\t干槽症\\t右眼皮下面一直跳是怎么回事\\t麦当劳...</td>\n",
              "    </tr>\n",
              "  </tbody>\n",
              "</table>\n",
              "</div>"
            ],
            "text/plain": [
              "                                 id  ...                                              query\n",
              "0  22DD920316420BE2DF8D6EE651BA174B  ...  柔和双沟\\t女生\\t中财网首页 财经\\thttp://pan.baidu.com/s/1pl...\n",
              "1  43CC3AF5A8D6430A3B572337A889AFE4  ...  广州厨宝烤箱\\t世情薄,人情恶,雨送黄昏花易落,晓风干,泪痕\\t厦门酒店用品批发市场\\t我只...\n",
              "2  E97654BFF5570E2CCD433EA6128EAC19  ...  钻石之泪耳机\\t盘锦到沈阳\\t旅顺公交\\t辽宁阜新车牌\\tbaidu\\tk715\\tk716...\n",
              "3  6931EFC26D229CCFCEA125D3F3C21E57  ...  最受欢迎狗狗排行榜\\t舶怎么读\\t场景描 写范例\\t三维绘图软件\\t枣和酸奶能一起吃吗\\t好...\n",
              "4  E780470C3BB0D340334BD08CDCC3C71A  ...  干槽症能自愈吗\\t太太万岁叶舒心去没去美国\\t干槽症\\t右眼皮下面一直跳是怎么回事\\t麦当劳...\n",
              "\n",
              "[5 rows x 5 columns]"
            ]
          },
          "metadata": {
            "tags": []
          },
          "execution_count": 7
        },
        {
          "output_type": "execute_result",
          "data": {
            "text/html": [
              "<div>\n",
              "<style scoped>\n",
              "    .dataframe tbody tr th:only-of-type {\n",
              "        vertical-align: middle;\n",
              "    }\n",
              "\n",
              "    .dataframe tbody tr th {\n",
              "        vertical-align: top;\n",
              "    }\n",
              "\n",
              "    .dataframe thead th {\n",
              "        text-align: right;\n",
              "    }\n",
              "</style>\n",
              "<table border=\"1\" class=\"dataframe\">\n",
              "  <thead>\n",
              "    <tr style=\"text-align: right;\">\n",
              "      <th></th>\n",
              "      <th>age</th>\n",
              "      <th>gender</th>\n",
              "      <th>edu</th>\n",
              "    </tr>\n",
              "  </thead>\n",
              "  <tbody>\n",
              "    <tr>\n",
              "      <th>count</th>\n",
              "      <td>100000.000000</td>\n",
              "      <td>100000.000000</td>\n",
              "      <td>100000.000000</td>\n",
              "    </tr>\n",
              "    <tr>\n",
              "      <th>mean</th>\n",
              "      <td>2.082310</td>\n",
              "      <td>1.387140</td>\n",
              "      <td>3.903330</td>\n",
              "    </tr>\n",
              "    <tr>\n",
              "      <th>std</th>\n",
              "      <td>1.184276</td>\n",
              "      <td>0.529495</td>\n",
              "      <td>1.522205</td>\n",
              "    </tr>\n",
              "    <tr>\n",
              "      <th>min</th>\n",
              "      <td>0.000000</td>\n",
              "      <td>0.000000</td>\n",
              "      <td>0.000000</td>\n",
              "    </tr>\n",
              "    <tr>\n",
              "      <th>25%</th>\n",
              "      <td>1.000000</td>\n",
              "      <td>1.000000</td>\n",
              "      <td>3.000000</td>\n",
              "    </tr>\n",
              "    <tr>\n",
              "      <th>50%</th>\n",
              "      <td>2.000000</td>\n",
              "      <td>1.000000</td>\n",
              "      <td>4.000000</td>\n",
              "    </tr>\n",
              "    <tr>\n",
              "      <th>75%</th>\n",
              "      <td>3.000000</td>\n",
              "      <td>2.000000</td>\n",
              "      <td>5.000000</td>\n",
              "    </tr>\n",
              "    <tr>\n",
              "      <th>max</th>\n",
              "      <td>6.000000</td>\n",
              "      <td>2.000000</td>\n",
              "      <td>6.000000</td>\n",
              "    </tr>\n",
              "  </tbody>\n",
              "</table>\n",
              "</div>"
            ],
            "text/plain": [
              "                 age         gender            edu\n",
              "count  100000.000000  100000.000000  100000.000000\n",
              "mean        2.082310       1.387140       3.903330\n",
              "std         1.184276       0.529495       1.522205\n",
              "min         0.000000       0.000000       0.000000\n",
              "25%         1.000000       1.000000       3.000000\n",
              "50%         2.000000       1.000000       4.000000\n",
              "75%         3.000000       2.000000       5.000000\n",
              "max         6.000000       2.000000       6.000000"
            ]
          },
          "metadata": {
            "tags": []
          },
          "execution_count": 7
        },
        {
          "output_type": "execute_result",
          "data": {
            "text/plain": [
              "(100000, 5)"
            ]
          },
          "metadata": {
            "tags": []
          },
          "execution_count": 7
        }
      ]
    },
    {
      "cell_type": "markdown",
      "metadata": {
        "id": "igapUJaZJm8m",
        "colab_type": "text"
      },
      "source": [
        "## 查看样本分布情况"
      ]
    },
    {
      "cell_type": "code",
      "metadata": {
        "id": "oS4jjGLjJrX1",
        "colab_type": "code",
        "outputId": "74232f76-a129-4806-df1b-47d5919bca88",
        "colab": {
          "base_uri": "https://localhost:8080/",
          "height": 738
        }
      },
      "source": [
        "part_data = train[['id','age','gender','edu']]\n",
        "part_data.info()\n",
        "part_data['age'].value_counts()\n",
        "part_data['gender'].value_counts()\n",
        "part_data['edu'].value_counts()\n",
        "%matplotlib inline\n",
        "part_data['age'].value_counts().plot(kind='bar')\n",
        "part_data['gender'].value_counts().plot(kind='bar')\n",
        "part_data['edu'].value_counts().plot(kind='bar')"
      ],
      "execution_count": 8,
      "outputs": [
        {
          "output_type": "stream",
          "text": [
            "<class 'pandas.core.frame.DataFrame'>\n",
            "RangeIndex: 100000 entries, 0 to 99999\n",
            "Data columns (total 4 columns):\n",
            "id        100000 non-null object\n",
            "age       100000 non-null int64\n",
            "gender    100000 non-null int64\n",
            "edu       100000 non-null int64\n",
            "dtypes: int64(3), object(1)\n",
            "memory usage: 3.1+ MB\n"
          ],
          "name": "stdout"
        },
        {
          "output_type": "execute_result",
          "data": {
            "text/plain": [
              "1    38996\n",
              "2    26744\n",
              "3    18529\n",
              "4    10654\n",
              "5     2922\n",
              "0     1666\n",
              "6      489\n",
              "Name: age, dtype: int64"
            ]
          },
          "metadata": {
            "tags": []
          },
          "execution_count": 8
        },
        {
          "output_type": "execute_result",
          "data": {
            "text/plain": [
              "1    56976\n",
              "2    40869\n",
              "0     2155\n",
              "Name: gender, dtype: int64"
            ]
          },
          "metadata": {
            "tags": []
          },
          "execution_count": 8
        },
        {
          "output_type": "execute_result",
          "data": {
            "text/plain": [
              "5    37107\n",
              "4    28148\n",
              "3    18858\n",
              "0     9280\n",
              "6     5693\n",
              "2      560\n",
              "1      354\n",
              "Name: edu, dtype: int64"
            ]
          },
          "metadata": {
            "tags": []
          },
          "execution_count": 8
        },
        {
          "output_type": "execute_result",
          "data": {
            "text/plain": [
              "<matplotlib.axes._subplots.AxesSubplot at 0x7f8516927940>"
            ]
          },
          "metadata": {
            "tags": []
          },
          "execution_count": 8
        },
        {
          "output_type": "execute_result",
          "data": {
            "text/plain": [
              "<matplotlib.axes._subplots.AxesSubplot at 0x7f8516927940>"
            ]
          },
          "metadata": {
            "tags": []
          },
          "execution_count": 8
        },
        {
          "output_type": "execute_result",
          "data": {
            "text/plain": [
              "<matplotlib.axes._subplots.AxesSubplot at 0x7f8516927940>"
            ]
          },
          "metadata": {
            "tags": []
          },
          "execution_count": 8
        },
        {
          "output_type": "display_data",
          "data": {
            "image/png": "[encoded data removed]",
            "text/plain": [
              "<Figure size 432x288 with 1 Axes>"
            ]
          },
          "metadata": {
            "tags": []
          }
        }
      ]
    },
    {
      "cell_type": "code",
      "metadata": {
        "pycharm": {
          "is_executing": false,
          "metadata": false,
          "name": "#%%\n"
        },
        "id": "jI6W8sqFnMPj",
        "colab_type": "code",
        "outputId": "5ff8238e-b836-46dc-b50a-78ec612c0d09",
        "colab": {
          "base_uri": "https://localhost:8080/",
          "height": 34
        }
      },
      "source": [
        "#取一部分数据\n",
        "#train = train[:100]\n",
        "train.shape"
      ],
      "execution_count": 9,
      "outputs": [
        {
          "output_type": "execute_result",
          "data": {
            "text/plain": [
              "(100000, 5)"
            ]
          },
          "metadata": {
            "tags": []
          },
          "execution_count": 9
        }
      ]
    },
    {
      "cell_type": "code",
      "metadata": {
        "id": "1T4z7rIgnMPm",
        "colab_type": "code",
        "colab": {}
      },
      "source": [
        "#分词\n",
        "def pre_prosess(text):\n",
        "    l = []\n",
        "    #pos = ['n', 'nz', 'v', 'vd', 'vn', 'l', 'a', 'd']  # 定义选取的词性\n",
        "    pos = ['n', 'v', 'j'] \n",
        "    seg = jieba.posseg.cut(text)  # 分词\n",
        "    for i in seg:\n",
        "        if i.word and i.flag in pos:  # 词性筛选\n",
        "            l.append(i.word)\n",
        "    return l"
      ],
      "execution_count": 0,
      "outputs": []
    },
    {
      "cell_type": "code",
      "metadata": {
        "pycharm": {
          "metadata": false,
          "name": "#%%\n"
        },
        "id": "MXDTrUZ9nMPo",
        "colab_type": "code",
        "outputId": "e9c700d1-a3b7-4215-e679-d5914528ba5c",
        "colab": {
          "base_uri": "https://localhost:8080/",
          "height": 34
        }
      },
      "source": [
        "#进行分词并保存在df的segment列中，后续直接读取不用再进行分词，分词时间较长需要一个半小时左右\n",
        "import datetime\n",
        "\n",
        "start = datetime.datetime.now()\n",
        "segments = []\n",
        "query_list = train['query'].values.tolist()\n",
        "train['segment']=None\n",
        "i=0\n",
        "jieba.enable_parallel()\n",
        "for line in query_list:\n",
        "    segment = []\n",
        "    try :\n",
        "        segment = pre_prosess(line)\n",
        "        #segments.append(segment)\n",
        "        train.loc[i,'segment'] = \" \".join(segment)\n",
        "        #print(\" \".join(segment))\n",
        "    except Exception as e:\n",
        "        print(e)    \n",
        "        print(line)\n",
        "        continue\n",
        "    finally:\n",
        "        i+=1\n",
        "end = datetime.datetime.now()\n",
        "print(end - start)\n",
        "save_df = train[['id','age','gender','edu','segment']]\n",
        "save_df.to_csv('seg.csv', sep=',', header=True, index=True)"
      ],
      "execution_count": 0,
      "outputs": [
        {
          "output_type": "stream",
          "text": [
            "1:35:07.353477\n"
          ],
          "name": "stdout"
        }
      ]
    },
    {
      "cell_type": "code",
      "metadata": {
        "id": "NqCH45MznMPq",
        "colab_type": "code",
        "outputId": "1a4b6dbf-b4b8-46ff-bb0f-e07a513ee65e",
        "colab": {
          "base_uri": "https://localhost:8080/",
          "height": 306
        }
      },
      "source": [
        "train.head()\n",
        "train.shape\n",
        "type(train['segment'].values.tolist())"
      ],
      "execution_count": 0,
      "outputs": [
        {
          "output_type": "execute_result",
          "data": {
            "text/html": [
              "<div>\n",
              "<style scoped>\n",
              "    .dataframe tbody tr th:only-of-type {\n",
              "        vertical-align: middle;\n",
              "    }\n",
              "\n",
              "    .dataframe tbody tr th {\n",
              "        vertical-align: top;\n",
              "    }\n",
              "\n",
              "    .dataframe thead th {\n",
              "        text-align: right;\n",
              "    }\n",
              "</style>\n",
              "<table border=\"1\" class=\"dataframe\">\n",
              "  <thead>\n",
              "    <tr style=\"text-align: right;\">\n",
              "      <th></th>\n",
              "      <th>id</th>\n",
              "      <th>age</th>\n",
              "      <th>gender</th>\n",
              "      <th>edu</th>\n",
              "      <th>query</th>\n",
              "      <th>segment</th>\n",
              "    </tr>\n",
              "  </thead>\n",
              "  <tbody>\n",
              "    <tr>\n",
              "      <th>0</th>\n",
              "      <td>22DD920316420BE2DF8D6EE651BA174B</td>\n",
              "      <td>1</td>\n",
              "      <td>1</td>\n",
              "      <td>4</td>\n",
              "      <td>柔和双沟\\t女生\\t中财网首页 财经\\thttp://pan.baidu.com/s/1pl...</td>\n",
              "      <td>双沟 女生 财经 查询 总裁 大人 行行好 财经 传媒 教师节 全文 男子 砸毁 墓碑 填 ...</td>\n",
              "    </tr>\n",
              "    <tr>\n",
              "      <th>1</th>\n",
              "      <td>43CC3AF5A8D6430A3B572337A889AFE4</td>\n",
              "      <td>2</td>\n",
              "      <td>1</td>\n",
              "      <td>3</td>\n",
              "      <td>广州厨宝烤箱\\t世情薄,人情恶,雨送黄昏花易落,晓风干,泪痕\\t厦门酒店用品批发市场\\t我只...</td>\n",
              "      <td>厨宝 烤箱 世情 人情 雨 送 花易落 风干 泪痕 酒店用品 批发市场 不想 让 支付 无情...</td>\n",
              "    </tr>\n",
              "    <tr>\n",
              "      <th>2</th>\n",
              "      <td>E97654BFF5570E2CCD433EA6128EAC19</td>\n",
              "      <td>4</td>\n",
              "      <td>1</td>\n",
              "      <td>0</td>\n",
              "      <td>钻石之泪耳机\\t盘锦到沈阳\\t旅顺公交\\t辽宁阜新车牌\\tbaidu\\tk715\\tk716...</td>\n",
              "      <td>钻石 泪 耳机 到 公交 车牌 到 网游 网游 辽 到 到 炮神 燕窝 霉菌性 外敷 手 项...</td>\n",
              "    </tr>\n",
              "    <tr>\n",
              "      <th>3</th>\n",
              "      <td>6931EFC26D229CCFCEA125D3F3C21E57</td>\n",
              "      <td>4</td>\n",
              "      <td>2</td>\n",
              "      <td>3</td>\n",
              "      <td>最受欢迎狗狗排行榜\\t舶怎么读\\t场景描 写范例\\t三维绘图软件\\t枣和酸奶能一起吃吗\\t好...</td>\n",
              "      <td>受欢迎 狗狗 排行榜 读 场景 描 写 范例 绘图 软件 枣 酸奶 能 吃 租 衣服 网站 ...</td>\n",
              "    </tr>\n",
              "    <tr>\n",
              "      <th>4</th>\n",
              "      <td>E780470C3BB0D340334BD08CDCC3C71A</td>\n",
              "      <td>2</td>\n",
              "      <td>2</td>\n",
              "      <td>4</td>\n",
              "      <td>干槽症能自愈吗\\t太太万岁叶舒心去没去美国\\t干槽症\\t右眼皮下面一直跳是怎么回事\\t麦当劳...</td>\n",
              "      <td>干槽症 能 太太 去 没去 干槽症 眼皮 跳 是 旋风 勺子 制药 股份 有限公司 脑络 胶...</td>\n",
              "    </tr>\n",
              "  </tbody>\n",
              "</table>\n",
              "</div>"
            ],
            "text/plain": [
              "                                 id  ...                                            segment\n",
              "0  22DD920316420BE2DF8D6EE651BA174B  ...  双沟 女生 财经 查询 总裁 大人 行行好 财经 传媒 教师节 全文 男子 砸毁 墓碑 填 ...\n",
              "1  43CC3AF5A8D6430A3B572337A889AFE4  ...  厨宝 烤箱 世情 人情 雨 送 花易落 风干 泪痕 酒店用品 批发市场 不想 让 支付 无情...\n",
              "2  E97654BFF5570E2CCD433EA6128EAC19  ...  钻石 泪 耳机 到 公交 车牌 到 网游 网游 辽 到 到 炮神 燕窝 霉菌性 外敷 手 项...\n",
              "3  6931EFC26D229CCFCEA125D3F3C21E57  ...  受欢迎 狗狗 排行榜 读 场景 描 写 范例 绘图 软件 枣 酸奶 能 吃 租 衣服 网站 ...\n",
              "4  E780470C3BB0D340334BD08CDCC3C71A  ...  干槽症 能 太太 去 没去 干槽症 眼皮 跳 是 旋风 勺子 制药 股份 有限公司 脑络 胶...\n",
              "\n",
              "[5 rows x 6 columns]"
            ]
          },
          "metadata": {
            "tags": []
          },
          "execution_count": 13
        },
        {
          "output_type": "execute_result",
          "data": {
            "text/plain": [
              "(10000, 6)"
            ]
          },
          "metadata": {
            "tags": []
          },
          "execution_count": 13
        },
        {
          "output_type": "execute_result",
          "data": {
            "text/plain": [
              "list"
            ]
          },
          "metadata": {
            "tags": []
          },
          "execution_count": 13
        }
      ]
    },
    {
      "cell_type": "markdown",
      "metadata": {
        "id": "DL3-6Qo71Y47",
        "colab_type": "text"
      },
      "source": [
        "## 保存分词结果后续训练word2vec使用"
      ]
    },
    {
      "cell_type": "code",
      "metadata": {
        "id": "0Owk6admnMPt",
        "colab_type": "code",
        "colab": {}
      },
      "source": [
        "import codecs\n",
        "import multiprocessing\n",
        "from gensim.models import Word2Vec\n",
        "from gensim.models.word2vec import LineSentence\n",
        "\n",
        "segment_list = train['segment'].values.tolist()\n",
        "corpus_txt_name = 'seg_txt.txt'\n",
        "f = codecs.open(corpus_txt_name,'w',encoding='utf8')\n",
        "for line in segment_list:\n",
        "    f.writelines(str(line)+'\\n')\n",
        "f.close()"
      ],
      "execution_count": 0,
      "outputs": []
    },
    {
      "cell_type": "markdown",
      "metadata": {
        "id": "8Ih2u-i4lhgX",
        "colab_type": "text"
      },
      "source": [
        "## 保存词典"
      ]
    },
    {
      "cell_type": "code",
      "metadata": {
        "id": "u78_GLxkrb8a",
        "colab_type": "code",
        "colab": {}
      },
      "source": [
        "vocab_file = 'vocab.txt'\n",
        "segment_list = train['segment'].values.tolist()\n",
        "all_data = []\n",
        "for content in segment_list:\n",
        "  all_data.extend(content.split(' '))\n",
        "counter = Counter(all_data)\n",
        "count_pairs = counter.most_common(vocab_size - 1)\n",
        "words, _ = list(zip(*count_pairs))\n",
        "# 添加一个 <PAD> 来将所有文本pad为同一长度\n",
        "words = ['<PAD>'] + list(words)\n",
        "open(vocab_file, 'w').write('\\n'.join(words) + '\\n')"
      ],
      "execution_count": 0,
      "outputs": []
    },
    {
      "cell_type": "markdown",
      "metadata": {
        "id": "gqvEo6d5Eqdn",
        "colab_type": "text"
      },
      "source": [
        "## 使用word2vec预训练"
      ]
    },
    {
      "cell_type": "code",
      "metadata": {
        "id": "uDFmMjjFxizE",
        "colab_type": "code",
        "colab": {}
      },
      "source": [
        "#读取分词后的结果\n",
        "seg_data_path = '/content/drive/My Drive/Persona-Profile/seg.csv'\n",
        "seg_data = pd.read_csv(seg_data_path,sep=',',header=0)\n",
        "seg_data = seg_data[['id','age','gender','edu','segment']]"
      ],
      "execution_count": 0,
      "outputs": []
    },
    {
      "cell_type": "code",
      "metadata": {
        "id": "qf6cg8lPnO36",
        "colab_type": "code",
        "outputId": "90a68e51-7e80-404a-9346-40865fd2a08d",
        "colab": {
          "base_uri": "https://localhost:8080/",
          "height": 63
        }
      },
      "source": [
        "#构建词袋向量\n",
        "from utils import *\n",
        "vocab_file = 'vocab.txt'\n",
        "segment_list = seg_data['segment'].values.tolist()\n",
        "all_data = []\n",
        "for content in segment_list:\n",
        "  str_content = str(content)\n",
        "  all_data.append(str_content.split(' '))\n",
        "_, word_to_id = read_vocab(vocab_file)"
      ],
      "execution_count": 11,
      "outputs": [
        {
          "output_type": "display_data",
          "data": {
            "text/html": [
              "<p style=\"color: red;\">\n",
              "The default version of TensorFlow in Colab will soon switch to TensorFlow 2.x.<br>\n",
              "We recommend you <a href=\"https://www.tensorflow.org/guide/migrate\" target=\"_blank\">upgrade</a> now \n",
              "or ensure your notebook will continue to use TensorFlow 1.x via the <code>%tensorflow_version 1.x</code> magic:\n",
              "<a href=\"https://colab.research.google.com/notebooks/tensorflow_version.ipynb\" target=\"_blank\">more info</a>.</p>\n"
            ],
            "text/plain": [
              "<IPython.core.display.HTML object>"
            ]
          },
          "metadata": {
            "tags": []
          }
        }
      ]
    },
    {
      "cell_type": "code",
      "metadata": {
        "id": "G9gqE3oRE_cb",
        "colab_type": "code",
        "outputId": "b9a22f13-5fc3-402e-af3d-f0f55c4e1232",
        "colab": {
          "base_uri": "https://localhost:8080/",
          "height": 71
        }
      },
      "source": [
        "from gensim.models import Word2Vec\n",
        "from gensim.models.word2vec import LineSentence\n",
        "import multiprocessing\n",
        "emb_size = 256\n",
        "vocab_size = 90000\n",
        "corpus_txt_name = 'seg_txt.txt'\n",
        "sentences = LineSentence(corpus_txt_name)\n",
        "w2v_model = Word2Vec(sentences, size=emb_size,workers=multiprocessing.cpu_count())"
      ],
      "execution_count": 13,
      "outputs": [
        {
          "output_type": "stream",
          "text": [
            "/usr/local/lib/python3.6/dist-packages/smart_open/smart_open_lib.py:402: UserWarning: This function is deprecated, use smart_open.open instead. See the migration notes for details: https://github.com/RaRe-Technologies/smart_open/blob/master/README.rst#migrating-to-the-new-open-function\n",
            "  'See the migration notes for details: %s' % _MIGRATION_NOTES_URL\n"
          ],
          "name": "stderr"
        }
      ]
    },
    {
      "cell_type": "code",
      "metadata": {
        "id": "KPy5YAyALXXd",
        "colab_type": "code",
        "outputId": "1b7f3658-3371-4554-e0ad-0321d40d43f0",
        "colab": {
          "base_uri": "https://localhost:8080/",
          "height": 34
        }
      },
      "source": [
        "from gensim.models import Word2Vec\n",
        "print(type(word_to_id))\n",
        "#help(Word2Vec)"
      ],
      "execution_count": 14,
      "outputs": [
        {
          "output_type": "stream",
          "text": [
            "<class 'dict'>\n"
          ],
          "name": "stdout"
        }
      ]
    },
    {
      "cell_type": "code",
      "metadata": {
        "id": "QPFDP4heLE4m",
        "colab_type": "code",
        "colab": {}
      },
      "source": [
        "w2v_embeddings = np.zeros((vocab_size, emb_size))\n",
        "for char, char_idx in word_to_id.items():\n",
        "    if char in w2v_model.wv:\n",
        "        w2v_embeddings[char_idx] = w2v_model.wv[char]\n",
        "    else:\n",
        "        #没有词向量的词语，用-0.25-0.25之间的数随机生成\n",
        "        w2v_embeddings[char_idx] = np.random.uniform(-0.25, 0.25, emb_size)    "
      ],
      "execution_count": 0,
      "outputs": []
    },
    {
      "cell_type": "markdown",
      "metadata": {
        "id": "eIlDojUoqKRN",
        "colab_type": "text"
      },
      "source": [
        "## 数据集切分"
      ]
    },
    {
      "cell_type": "code",
      "metadata": {
        "id": "X2p1B39mecKC",
        "colab_type": "code",
        "outputId": "c4a18e1d-4ecc-4ae0-ea19-17190f87c318",
        "colab": {
          "base_uri": "https://localhost:8080/",
          "height": 51
        }
      },
      "source": [
        "from keras.preprocessing.sequence import pad_sequences\n",
        "\n",
        "segment_list = seg_data['segment'].values.tolist()\n",
        "x_train = encode_sentences([content for content in all_data], word_to_id)\n",
        "maxlen = 1000\n",
        "x_train = pad_sequences(x_train, maxlen=maxlen)\n",
        "age_label = seg_data['age'].values\n",
        "print(type(age_label))\n",
        "gender_label = seg_data['gender'].values\n",
        "edu_label = seg_data['edu'].values\n",
        "#去掉标签为0的数据\n",
        "def filter_data(data,label):\n",
        "    index = np.nonzero(label)\n",
        "    res_label = label[index]\n",
        "    res_data = np.array(data)\n",
        "    res_data = data[index]\n",
        "    return res_data, res_label\n",
        "x_age_train, age_label_no_zero = filter_data(x_train,age_label)\n",
        "x_gender_train, gender_label_no_zero = filter_data(x_train,gender_label)\n",
        "x_edu_train, age_edu_no_zero = filter_data(x_train,edu_label)"
      ],
      "execution_count": 16,
      "outputs": [
        {
          "output_type": "stream",
          "text": [
            "Using TensorFlow backend.\n"
          ],
          "name": "stderr"
        },
        {
          "output_type": "stream",
          "text": [
            "<class 'numpy.ndarray'>\n"
          ],
          "name": "stdout"
        }
      ]
    },
    {
      "cell_type": "code",
      "metadata": {
        "id": "KJUMXxIVsGPk",
        "colab_type": "code",
        "outputId": "0fdd2135-20c2-4c83-92e6-8b4d2b0bdb62",
        "colab": {
          "base_uri": "https://localhost:8080/",
          "height": 68
        }
      },
      "source": [
        "print('max %s, min %s'%(max(age_label_no_zero),min(age_label_no_zero)))\n",
        "print('max %s, min %s'%(max(gender_label),min(gender_label_no_zero)))\n",
        "print('max %s, min %s'%(max(edu_label),min(age_edu_no_zero)))"
      ],
      "execution_count": 17,
      "outputs": [
        {
          "output_type": "stream",
          "text": [
            "max 6, min 1\n",
            "max 2, min 1\n",
            "max 6, min 1\n"
          ],
          "name": "stdout"
        }
      ]
    },
    {
      "cell_type": "code",
      "metadata": {
        "id": "Z5ra4tXKhDzk",
        "colab_type": "code",
        "colab": {}
      },
      "source": [
        "from sklearn.model_selection import KFold,StratifiedKFold\n",
        "from sklearn.model_selection import train_test_split\n",
        "import tensorflow as tf\n",
        "import keras.backend.tensorflow_backend as ktf\n",
        "from keras.layers import LSTM, Dense, Bidirectional\n",
        "from keras.layers.embeddings import Embedding\n",
        "from keras.models import Sequential, model_from_json\n",
        "from keras.preprocessing.sequence import pad_sequences\n",
        "from keras.utils.np_utils import to_categorical\n",
        "\n",
        "y_age = to_categorical(age_label_no_zero-1, num_classes=max(age_label_no_zero))\n",
        "y_gender = to_categorical(gender_label_no_zero-1, num_classes=max(gender_label_no_zero))\n",
        "y_edu = to_categorical(age_edu_no_zero-1, num_classes=max(age_edu_no_zero))\n",
        "\n",
        "x_age_train,x_age_test,y_age_train,y_age_test = train_test_split(x_age_train,y_age,test_size=0.2,random_state=123)\n",
        "x_gender_train,x_gender_test,y_gender_train,y_gender_test = train_test_split(x_gender_train,y_gender,test_size=0.2,random_state=456)\n",
        "x_edu_train,x_edu_test,y_edu_train,y_edu_test = train_test_split(x_edu_train,y_edu,test_size=0.2,random_state=789)"
      ],
      "execution_count": 0,
      "outputs": []
    },
    {
      "cell_type": "markdown",
      "metadata": {
        "id": "BUHNPHRniERq",
        "colab_type": "text"
      },
      "source": [
        "## 训练模型"
      ]
    },
    {
      "cell_type": "code",
      "metadata": {
        "id": "Fh5FukqquvHs",
        "colab_type": "code",
        "colab": {}
      },
      "source": [
        "y_age = to_categorical(age_label_no_zero-1, num_classes=max(age_label_no_zero))\n",
        "y_gender = to_categorical(gender_label_no_zero-1, num_classes=max(gender_label_no_zero))\n",
        "y_edu = to_categorical(age_edu_no_zero-1, num_classes=max(age_edu_no_zero))"
      ],
      "execution_count": 0,
      "outputs": []
    },
    {
      "cell_type": "code",
      "metadata": {
        "id": "9uZucZPqUZfl",
        "colab_type": "code",
        "colab": {}
      },
      "source": [
        "def train(x_train, y_train, x_valid, y_valid,classes,epoch_value,embedding_matrix):\n",
        "    n_words = 6000\n",
        "    opts = {\n",
        "        'emb_size': 256,\n",
        "        'emb_trainable': True,\n",
        "        'vocab_size': 90000,\n",
        "        'lstm_units': 256\n",
        "    }\n",
        "    train_model = Sequential()\n",
        "    \n",
        "    train_model.add(Embedding(90000, opts['emb_size'], \n",
        "                              weights=[embedding_matrix],\n",
        "                              trainable=True))\n",
        "    train_model.add(Bidirectional(\n",
        "        LSTM(100, dropout=0.2, recurrent_dropout=0.02,\n",
        "             return_sequences=True, implementation=2)))\n",
        "    train_model.add(Bidirectional(\n",
        "        LSTM(100, dropout=0.2, recurrent_dropout=0.02, implementation=2)))\n",
        "    train_model.add(Dense(classes, activation='softmax'))\n",
        "    train_model.compile(optimizer='adam',\n",
        "                        loss='categorical_crossentropy', metrics=['accuracy'])\n",
        "    train_model.fit(x_train, y_train, epochs=epoch_value,\n",
        "                    batch_size=512, validation_data=(x_valid, y_valid))\n",
        "    return train_model"
      ],
      "execution_count": 0,
      "outputs": []
    },
    {
      "cell_type": "code",
      "metadata": {
        "id": "jjD-CAUVPYN2",
        "colab_type": "code",
        "outputId": "9ba32fb3-6c74-465c-e699-36da0c819de0",
        "colab": {
          "base_uri": "https://localhost:8080/",
          "height": 952
        }
      },
      "source": [
        "#edu train\n",
        "edu_model = train(x_edu_train, y_edu_train, x_edu_test, y_edu_test ,classes=max(age_edu_no_zero),epoch_value=10,embedding_matrix=w2v_embeddings)\n",
        "edu_model.save('edu_model_epoch10.h5')"
      ],
      "execution_count": 0,
      "outputs": [
        {
          "output_type": "stream",
          "text": [
            "WARNING:tensorflow:From /usr/local/lib/python3.6/dist-packages/keras/backend/tensorflow_backend.py:66: The name tf.get_default_graph is deprecated. Please use tf.compat.v1.get_default_graph instead.\n",
            "\n",
            "WARNING:tensorflow:From /usr/local/lib/python3.6/dist-packages/keras/backend/tensorflow_backend.py:541: The name tf.placeholder is deprecated. Please use tf.compat.v1.placeholder instead.\n",
            "\n",
            "WARNING:tensorflow:From /usr/local/lib/python3.6/dist-packages/keras/backend/tensorflow_backend.py:4432: The name tf.random_uniform is deprecated. Please use tf.random.uniform instead.\n",
            "\n",
            "WARNING:tensorflow:From /usr/local/lib/python3.6/dist-packages/keras/backend/tensorflow_backend.py:190: The name tf.get_default_session is deprecated. Please use tf.compat.v1.get_default_session instead.\n",
            "\n",
            "WARNING:tensorflow:From /usr/local/lib/python3.6/dist-packages/keras/backend/tensorflow_backend.py:197: The name tf.ConfigProto is deprecated. Please use tf.compat.v1.ConfigProto instead.\n",
            "\n",
            "WARNING:tensorflow:From /usr/local/lib/python3.6/dist-packages/keras/backend/tensorflow_backend.py:203: The name tf.Session is deprecated. Please use tf.compat.v1.Session instead.\n",
            "\n",
            "WARNING:tensorflow:From /usr/local/lib/python3.6/dist-packages/keras/backend/tensorflow_backend.py:207: The name tf.global_variables is deprecated. Please use tf.compat.v1.global_variables instead.\n",
            "\n",
            "WARNING:tensorflow:From /usr/local/lib/python3.6/dist-packages/keras/backend/tensorflow_backend.py:216: The name tf.is_variable_initialized is deprecated. Please use tf.compat.v1.is_variable_initialized instead.\n",
            "\n",
            "WARNING:tensorflow:From /usr/local/lib/python3.6/dist-packages/keras/backend/tensorflow_backend.py:223: The name tf.variables_initializer is deprecated. Please use tf.compat.v1.variables_initializer instead.\n",
            "\n",
            "WARNING:tensorflow:From /usr/local/lib/python3.6/dist-packages/keras/backend/tensorflow_backend.py:148: The name tf.placeholder_with_default is deprecated. Please use tf.compat.v1.placeholder_with_default instead.\n",
            "\n",
            "WARNING:tensorflow:From /usr/local/lib/python3.6/dist-packages/keras/backend/tensorflow_backend.py:3733: calling dropout (from tensorflow.python.ops.nn_ops) with keep_prob is deprecated and will be removed in a future version.\n",
            "Instructions for updating:\n",
            "Please use `rate` instead of `keep_prob`. Rate should be set to `rate = 1 - keep_prob`.\n",
            "WARNING:tensorflow:From /usr/local/lib/python3.6/dist-packages/keras/optimizers.py:793: The name tf.train.Optimizer is deprecated. Please use tf.compat.v1.train.Optimizer instead.\n",
            "\n",
            "WARNING:tensorflow:From /usr/local/lib/python3.6/dist-packages/keras/backend/tensorflow_backend.py:3576: The name tf.log is deprecated. Please use tf.math.log instead.\n",
            "\n",
            "WARNING:tensorflow:From /usr/local/lib/python3.6/dist-packages/tensorflow_core/python/ops/math_grad.py:1424: where (from tensorflow.python.ops.array_ops) is deprecated and will be removed in a future version.\n",
            "Instructions for updating:\n",
            "Use tf.where in 2.0, which has the same broadcast rule as np.where\n",
            "WARNING:tensorflow:From /usr/local/lib/python3.6/dist-packages/keras/backend/tensorflow_backend.py:1033: The name tf.assign_add is deprecated. Please use tf.compat.v1.assign_add instead.\n",
            "\n",
            "WARNING:tensorflow:From /usr/local/lib/python3.6/dist-packages/keras/backend/tensorflow_backend.py:1020: The name tf.assign is deprecated. Please use tf.compat.v1.assign instead.\n",
            "\n",
            "Train on 72576 samples, validate on 18144 samples\n",
            "Epoch 1/10\n",
            "72576/72576 [==============================] - 766s 11ms/step - loss: 1.1195 - acc: 0.5283 - val_loss: 1.0570 - val_acc: 0.5552\n",
            "Epoch 2/10\n",
            "72576/72576 [==============================] - 774s 11ms/step - loss: 1.0425 - acc: 0.5722 - val_loss: 1.0402 - val_acc: 0.5711\n",
            "Epoch 3/10\n",
            "72576/72576 [==============================] - 764s 11ms/step - loss: 1.0282 - acc: 0.5806 - val_loss: 1.0442 - val_acc: 0.5786\n",
            "Epoch 4/10\n",
            "72576/72576 [==============================] - 761s 10ms/step - loss: 1.0015 - acc: 0.5956 - val_loss: 1.0188 - val_acc: 0.5872\n",
            "Epoch 5/10\n",
            "72576/72576 [==============================] - 759s 10ms/step - loss: 0.9737 - acc: 0.6144 - val_loss: 1.0135 - val_acc: 0.5946\n",
            "Epoch 6/10\n",
            "72576/72576 [==============================] - 764s 11ms/step - loss: 0.9431 - acc: 0.6309 - val_loss: 1.0245 - val_acc: 0.5936\n",
            "Epoch 7/10\n",
            "72576/72576 [==============================] - 759s 10ms/step - loss: 0.9098 - acc: 0.6493 - val_loss: 1.0232 - val_acc: 0.5964\n",
            "Epoch 8/10\n",
            "72576/72576 [==============================] - 759s 10ms/step - loss: 0.8623 - acc: 0.6732 - val_loss: 1.0454 - val_acc: 0.5913\n",
            "Epoch 9/10\n",
            "72576/72576 [==============================] - 758s 10ms/step - loss: 0.7971 - acc: 0.7062 - val_loss: 1.0697 - val_acc: 0.5880\n",
            "Epoch 10/10\n",
            "72576/72576 [==============================] - 756s 10ms/step - loss: 0.7347 - acc: 0.7346 - val_loss: 1.1395 - val_acc: 0.5778\n"
          ],
          "name": "stdout"
        }
      ]
    },
    {
      "cell_type": "code",
      "metadata": {
        "id": "0n_o9PT-PhtL",
        "colab_type": "code",
        "outputId": "904c338b-1b71-46ea-bded-087567816a03",
        "colab": {
          "base_uri": "https://localhost:8080/",
          "height": 972
        }
      },
      "source": [
        "gender_model = train(x_gender_train, y_gender_train, x_gender_test, y_gender_test ,classes=max(gender_label_no_zero),epoch_value=10,embedding_matrix=w2v_embeddings)\n",
        "gender_model.save('gender_model_epoch10.h5')"
      ],
      "execution_count": 21,
      "outputs": [
        {
          "output_type": "stream",
          "text": [
            "WARNING:tensorflow:From /usr/local/lib/python3.6/dist-packages/keras/backend/tensorflow_backend.py:66: The name tf.get_default_graph is deprecated. Please use tf.compat.v1.get_default_graph instead.\n",
            "\n",
            "WARNING:tensorflow:From /usr/local/lib/python3.6/dist-packages/keras/backend/tensorflow_backend.py:541: The name tf.placeholder is deprecated. Please use tf.compat.v1.placeholder instead.\n",
            "\n",
            "WARNING:tensorflow:From /usr/local/lib/python3.6/dist-packages/keras/backend/tensorflow_backend.py:4432: The name tf.random_uniform is deprecated. Please use tf.random.uniform instead.\n",
            "\n",
            "WARNING:tensorflow:From /usr/local/lib/python3.6/dist-packages/keras/backend/tensorflow_backend.py:190: The name tf.get_default_session is deprecated. Please use tf.compat.v1.get_default_session instead.\n",
            "\n",
            "WARNING:tensorflow:From /usr/local/lib/python3.6/dist-packages/keras/backend/tensorflow_backend.py:197: The name tf.ConfigProto is deprecated. Please use tf.compat.v1.ConfigProto instead.\n",
            "\n",
            "WARNING:tensorflow:From /usr/local/lib/python3.6/dist-packages/keras/backend/tensorflow_backend.py:203: The name tf.Session is deprecated. Please use tf.compat.v1.Session instead.\n",
            "\n",
            "WARNING:tensorflow:From /usr/local/lib/python3.6/dist-packages/keras/backend/tensorflow_backend.py:207: The name tf.global_variables is deprecated. Please use tf.compat.v1.global_variables instead.\n",
            "\n",
            "WARNING:tensorflow:From /usr/local/lib/python3.6/dist-packages/keras/backend/tensorflow_backend.py:216: The name tf.is_variable_initialized is deprecated. Please use tf.compat.v1.is_variable_initialized instead.\n",
            "\n",
            "WARNING:tensorflow:From /usr/local/lib/python3.6/dist-packages/keras/backend/tensorflow_backend.py:223: The name tf.variables_initializer is deprecated. Please use tf.compat.v1.variables_initializer instead.\n",
            "\n",
            "WARNING:tensorflow:From /usr/local/lib/python3.6/dist-packages/keras/backend/tensorflow_backend.py:148: The name tf.placeholder_with_default is deprecated. Please use tf.compat.v1.placeholder_with_default instead.\n",
            "\n",
            "WARNING:tensorflow:From /usr/local/lib/python3.6/dist-packages/keras/backend/tensorflow_backend.py:3733: calling dropout (from tensorflow.python.ops.nn_ops) with keep_prob is deprecated and will be removed in a future version.\n",
            "Instructions for updating:\n",
            "Please use `rate` instead of `keep_prob`. Rate should be set to `rate = 1 - keep_prob`.\n",
            "WARNING:tensorflow:From /usr/local/lib/python3.6/dist-packages/keras/optimizers.py:793: The name tf.train.Optimizer is deprecated. Please use tf.compat.v1.train.Optimizer instead.\n",
            "\n",
            "WARNING:tensorflow:From /usr/local/lib/python3.6/dist-packages/keras/backend/tensorflow_backend.py:3576: The name tf.log is deprecated. Please use tf.math.log instead.\n",
            "\n",
            "WARNING:tensorflow:From /usr/local/lib/python3.6/dist-packages/tensorflow_core/python/ops/math_grad.py:1424: where (from tensorflow.python.ops.array_ops) is deprecated and will be removed in a future version.\n",
            "Instructions for updating:\n",
            "Use tf.where in 2.0, which has the same broadcast rule as np.where\n",
            "WARNING:tensorflow:From /usr/local/lib/python3.6/dist-packages/keras/backend/tensorflow_backend.py:1033: The name tf.assign_add is deprecated. Please use tf.compat.v1.assign_add instead.\n",
            "\n",
            "WARNING:tensorflow:From /usr/local/lib/python3.6/dist-packages/keras/backend/tensorflow_backend.py:1020: The name tf.assign is deprecated. Please use tf.compat.v1.assign instead.\n",
            "\n",
            "Train on 78276 samples, validate on 19569 samples\n",
            "Epoch 1/10\n",
            "78276/78276 [==============================] - 1271s 16ms/step - loss: 0.5144 - acc: 0.7626 - val_loss: 0.4975 - val_acc: 0.7814\n",
            "Epoch 2/10\n",
            "78276/78276 [==============================] - 1274s 16ms/step - loss: 0.4779 - acc: 0.7948 - val_loss: 0.4696 - val_acc: 0.8001\n",
            "Epoch 3/10\n",
            "78276/78276 [==============================] - 1265s 16ms/step - loss: 0.4596 - acc: 0.8045 - val_loss: 0.4664 - val_acc: 0.8043\n",
            "Epoch 4/10\n",
            "78276/78276 [==============================] - 1249s 16ms/step - loss: 0.4380 - acc: 0.8212 - val_loss: 0.4624 - val_acc: 0.8086\n",
            "Epoch 5/10\n",
            "78276/78276 [==============================] - 1272s 16ms/step - loss: 0.4233 - acc: 0.8281 - val_loss: 0.4585 - val_acc: 0.8099\n",
            "Epoch 6/10\n",
            "78276/78276 [==============================] - 1249s 16ms/step - loss: 0.4066 - acc: 0.8386 - val_loss: 0.4607 - val_acc: 0.8107\n",
            "Epoch 7/10\n",
            "78276/78276 [==============================] - 1223s 16ms/step - loss: 0.3954 - acc: 0.8448 - val_loss: 0.4623 - val_acc: 0.8107\n",
            "Epoch 8/10\n",
            "78276/78276 [==============================] - 1208s 15ms/step - loss: 0.3693 - acc: 0.8578 - val_loss: 0.4762 - val_acc: 0.8072\n",
            "Epoch 9/10\n",
            "78276/78276 [==============================] - 1187s 15ms/step - loss: 0.3395 - acc: 0.8707 - val_loss: 0.5070 - val_acc: 0.8015\n",
            "Epoch 10/10\n",
            "78276/78276 [==============================] - 1215s 16ms/step - loss: 0.3062 - acc: 0.8842 - val_loss: 0.5405 - val_acc: 0.7997\n"
          ],
          "name": "stdout"
        }
      ]
    },
    {
      "cell_type": "code",
      "metadata": {
        "id": "wPnJmTFOPkC0",
        "colab_type": "code",
        "colab": {
          "base_uri": "https://localhost:8080/",
          "height": 972
        },
        "outputId": "f59e7cfb-74fd-43ac-cf55-9d6d965d9433"
      },
      "source": [
        "#age train\n",
        "age_model = train(x_age_train, y_age_train, x_age_test, y_age_test ,classes=max(age_label_no_zero),epoch_value=10,embedding_matrix=w2v_embeddings)\n",
        "age_model.save('age_model_epoch10.h5')"
      ],
      "execution_count": 20,
      "outputs": [
        {
          "output_type": "stream",
          "text": [
            "WARNING:tensorflow:From /usr/local/lib/python3.6/dist-packages/keras/backend/tensorflow_backend.py:66: The name tf.get_default_graph is deprecated. Please use tf.compat.v1.get_default_graph instead.\n",
            "\n",
            "WARNING:tensorflow:From /usr/local/lib/python3.6/dist-packages/keras/backend/tensorflow_backend.py:541: The name tf.placeholder is deprecated. Please use tf.compat.v1.placeholder instead.\n",
            "\n",
            "WARNING:tensorflow:From /usr/local/lib/python3.6/dist-packages/keras/backend/tensorflow_backend.py:4432: The name tf.random_uniform is deprecated. Please use tf.random.uniform instead.\n",
            "\n",
            "WARNING:tensorflow:From /usr/local/lib/python3.6/dist-packages/keras/backend/tensorflow_backend.py:190: The name tf.get_default_session is deprecated. Please use tf.compat.v1.get_default_session instead.\n",
            "\n",
            "WARNING:tensorflow:From /usr/local/lib/python3.6/dist-packages/keras/backend/tensorflow_backend.py:197: The name tf.ConfigProto is deprecated. Please use tf.compat.v1.ConfigProto instead.\n",
            "\n",
            "WARNING:tensorflow:From /usr/local/lib/python3.6/dist-packages/keras/backend/tensorflow_backend.py:203: The name tf.Session is deprecated. Please use tf.compat.v1.Session instead.\n",
            "\n",
            "WARNING:tensorflow:From /usr/local/lib/python3.6/dist-packages/keras/backend/tensorflow_backend.py:207: The name tf.global_variables is deprecated. Please use tf.compat.v1.global_variables instead.\n",
            "\n",
            "WARNING:tensorflow:From /usr/local/lib/python3.6/dist-packages/keras/backend/tensorflow_backend.py:216: The name tf.is_variable_initialized is deprecated. Please use tf.compat.v1.is_variable_initialized instead.\n",
            "\n",
            "WARNING:tensorflow:From /usr/local/lib/python3.6/dist-packages/keras/backend/tensorflow_backend.py:223: The name tf.variables_initializer is deprecated. Please use tf.compat.v1.variables_initializer instead.\n",
            "\n",
            "WARNING:tensorflow:From /usr/local/lib/python3.6/dist-packages/keras/backend/tensorflow_backend.py:148: The name tf.placeholder_with_default is deprecated. Please use tf.compat.v1.placeholder_with_default instead.\n",
            "\n",
            "WARNING:tensorflow:From /usr/local/lib/python3.6/dist-packages/keras/backend/tensorflow_backend.py:3733: calling dropout (from tensorflow.python.ops.nn_ops) with keep_prob is deprecated and will be removed in a future version.\n",
            "Instructions for updating:\n",
            "Please use `rate` instead of `keep_prob`. Rate should be set to `rate = 1 - keep_prob`.\n",
            "WARNING:tensorflow:From /usr/local/lib/python3.6/dist-packages/keras/optimizers.py:793: The name tf.train.Optimizer is deprecated. Please use tf.compat.v1.train.Optimizer instead.\n",
            "\n",
            "WARNING:tensorflow:From /usr/local/lib/python3.6/dist-packages/keras/backend/tensorflow_backend.py:3576: The name tf.log is deprecated. Please use tf.math.log instead.\n",
            "\n",
            "WARNING:tensorflow:From /usr/local/lib/python3.6/dist-packages/tensorflow_core/python/ops/math_grad.py:1424: where (from tensorflow.python.ops.array_ops) is deprecated and will be removed in a future version.\n",
            "Instructions for updating:\n",
            "Use tf.where in 2.0, which has the same broadcast rule as np.where\n",
            "WARNING:tensorflow:From /usr/local/lib/python3.6/dist-packages/keras/backend/tensorflow_backend.py:1033: The name tf.assign_add is deprecated. Please use tf.compat.v1.assign_add instead.\n",
            "\n",
            "WARNING:tensorflow:From /usr/local/lib/python3.6/dist-packages/keras/backend/tensorflow_backend.py:1020: The name tf.assign is deprecated. Please use tf.compat.v1.assign instead.\n",
            "\n",
            "Train on 78667 samples, validate on 19667 samples\n",
            "Epoch 1/10\n",
            "78667/78667 [==============================] - 918s 12ms/step - loss: 1.2132 - acc: 0.5062 - val_loss: 1.1605 - val_acc: 0.5339\n",
            "Epoch 2/10\n",
            "78667/78667 [==============================] - 918s 12ms/step - loss: 1.1414 - acc: 0.5441 - val_loss: 1.1344 - val_acc: 0.5508\n",
            "Epoch 3/10\n",
            "78667/78667 [==============================] - 926s 12ms/step - loss: 1.1127 - acc: 0.5581 - val_loss: 1.1207 - val_acc: 0.5572\n",
            "Epoch 4/10\n",
            "78667/78667 [==============================] - 916s 12ms/step - loss: 1.0858 - acc: 0.5714 - val_loss: 1.1014 - val_acc: 0.5615\n",
            "Epoch 5/10\n",
            "78667/78667 [==============================] - 922s 12ms/step - loss: 1.0608 - acc: 0.5839 - val_loss: 1.1050 - val_acc: 0.5642\n",
            "Epoch 6/10\n",
            "78667/78667 [==============================] - 910s 12ms/step - loss: 1.0416 - acc: 0.5969 - val_loss: 1.1042 - val_acc: 0.5643\n",
            "Epoch 7/10\n",
            "78667/78667 [==============================] - 927s 12ms/step - loss: 1.0092 - acc: 0.6115 - val_loss: 1.1088 - val_acc: 0.5662\n",
            "Epoch 8/10\n",
            "78667/78667 [==============================] - 928s 12ms/step - loss: 0.9715 - acc: 0.6320 - val_loss: 1.1210 - val_acc: 0.5660\n",
            "Epoch 9/10\n",
            "78667/78667 [==============================] - 944s 12ms/step - loss: 0.9226 - acc: 0.6558 - val_loss: 1.1315 - val_acc: 0.5633\n",
            "Epoch 10/10\n",
            "78667/78667 [==============================] - 932s 12ms/step - loss: 0.8657 - acc: 0.6827 - val_loss: 1.1633 - val_acc: 0.5552\n"
          ],
          "name": "stdout"
        }
      ]
    },
    {
      "cell_type": "markdown",
      "metadata": {
        "id": "4JRIjwn5ia6W",
        "colab_type": "text"
      },
      "source": [
        "改进思路：\n",
        "\n",
        "\n",
        "*   尝试一下词袋模型\n",
        "*   不使用分词直接使用字\n",
        "*   使用stack融合各种模型\n",
        "*   优化抽样，使得各个年龄段的样本均衡\n",
        "*   去停用词\n",
        "*   多标签\n",
        "\n",
        "\n",
        "\n",
        "\n",
        "\n",
        "\n"
      ]
    },
    {
      "cell_type": "code",
      "metadata": {
        "id": "7e_7lyh9VQM9",
        "colab_type": "code",
        "colab": {}
      },
      "source": [
        ""
      ],
      "execution_count": 0,
      "outputs": []
    }
  ]
}